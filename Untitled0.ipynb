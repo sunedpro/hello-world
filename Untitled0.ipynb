{
  "nbformat": 4,
  "nbformat_minor": 0,
  "metadata": {
    "colab": {
      "name": "Untitled0.ipynb",
      "provenance": [],
      "collapsed_sections": [],
      "authorship_tag": "ABX9TyMAOuO5CQ66Gi9jaZZn02CP",
      "include_colab_link": true
    },
    "kernelspec": {
      "name": "python3",
      "display_name": "Python 3"
    }
  },
  "cells": [
    {
      "cell_type": "markdown",
      "metadata": {
        "id": "view-in-github",
        "colab_type": "text"
      },
      "source": [
        "<a href=\"https://colab.research.google.com/github/sunedpro/hello-world/blob/master/Untitled0.ipynb\" target=\"_parent\"><img src=\"https://colab.research.google.com/assets/colab-badge.svg\" alt=\"Open In Colab\"/></a>"
      ]
    },
    {
      "cell_type": "code",
      "metadata": {
        "id": "rT0VxF4qDSNP",
        "colab_type": "code",
        "colab": {
          "base_uri": "https://localhost:8080/",
          "height": 222
        },
        "outputId": "acdb708a-80d6-4771-f842-4d6b375d3106"
      },
      "source": [
        "import tensorflow as tf\n",
        "import numpy as np\n",
        "\n",
        "x_data=np.random.rand(100).astype(np.float32)\n",
        "y_data=x_data*0.1+0.3\n",
        "Weights=tf.Variable(tf.random.uniform([1],-1.0,1.0))\n",
        "biases=tf.Variable(tf.zeros([1]))\n",
        "y=Weights*x_data+biases\n",
        "loss=tf.reduce_mean(tf.square(y-y_data))\n",
        "optimizer=tf.compat.v1.train.GradientDescentOptimizer(0.5)\n",
        "\n",
        "train=optimizer.minimize(loss)\n",
        "optimizer = tf.keras.optimizers.SGD(learning_rate=0.5) \n",
        "\n",
        "init=tf.compat.v1.global_variables_initializer()\n",
        "\n",
        "sess=tf.compat.v1.Session()\n",
        "sess.run(init)\n",
        "\n",
        "for step in range(201):\n",
        "  sess.run(train)\n",
        "  if step %20==0:\n",
        "    print(step,sess.run(Weights),sess.run(biases))"
      ],
      "execution_count": 17,
      "outputs": [
        {
          "output_type": "stream",
          "text": [
            "0 [-0.36172685] [0.7406911]\n",
            "20 [-0.02842531] [0.36741117]\n",
            "40 [0.06964523] [0.3159334]\n",
            "60 [0.09282532] [0.30376604]\n",
            "80 [0.09830418] [0.30089015]\n",
            "100 [0.09959918] [0.30021042]\n",
            "120 [0.09990525] [0.30004975]\n",
            "140 [0.09997763] [0.30001175]\n",
            "160 [0.09999471] [0.30000278]\n",
            "180 [0.09999878] [0.30000067]\n",
            "200 [0.09999973] [0.30000016]\n"
          ],
          "name": "stdout"
        }
      ]
    }
  ]
}